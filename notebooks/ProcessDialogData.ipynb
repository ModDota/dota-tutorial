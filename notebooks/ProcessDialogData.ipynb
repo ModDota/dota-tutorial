{
 "cells": [
  {
   "cell_type": "code",
   "execution_count": 1,
   "metadata": {},
   "outputs": [],
   "source": [
    "import pandas as pd\n",
    "from pathlib import Path"
   ]
  },
  {
   "cell_type": "code",
   "execution_count": 2,
   "metadata": {},
   "outputs": [
    {
     "output_type": "execute_result",
     "data": {
      "text/plain": [
       "                         Filename   Voice  \\\n",
       "count                         347     321   \n",
       "unique                        347      35   \n",
       "top     Script_4_Communication_13  Slacks   \n",
       "freq                            1     129   \n",
       "\n",
       "                                                     Line      Notes  \n",
       "count                                                 347         13  \n",
       "unique                                                347         12  \n",
       "top     Calm down friend. Now go pick up that odd blue...  delet dis  \n",
       "freq                                                    1          2  "
      ],
      "text/html": "<div>\n<style scoped>\n    .dataframe tbody tr th:only-of-type {\n        vertical-align: middle;\n    }\n\n    .dataframe tbody tr th {\n        vertical-align: top;\n    }\n\n    .dataframe thead th {\n        text-align: right;\n    }\n</style>\n<table border=\"1\" class=\"dataframe\">\n  <thead>\n    <tr style=\"text-align: right;\">\n      <th></th>\n      <th>Filename</th>\n      <th>Voice</th>\n      <th>Line</th>\n      <th>Notes</th>\n    </tr>\n  </thead>\n  <tbody>\n    <tr>\n      <th>count</th>\n      <td>347</td>\n      <td>321</td>\n      <td>347</td>\n      <td>13</td>\n    </tr>\n    <tr>\n      <th>unique</th>\n      <td>347</td>\n      <td>35</td>\n      <td>347</td>\n      <td>12</td>\n    </tr>\n    <tr>\n      <th>top</th>\n      <td>Script_4_Communication_13</td>\n      <td>Slacks</td>\n      <td>Calm down friend. Now go pick up that odd blue...</td>\n      <td>delet dis</td>\n    </tr>\n    <tr>\n      <th>freq</th>\n      <td>1</td>\n      <td>129</td>\n      <td>1</td>\n      <td>2</td>\n    </tr>\n  </tbody>\n</table>\n</div>"
     },
     "metadata": {},
     "execution_count": 2
    }
   ],
   "source": [
    "sub_folder = \"13\"\n",
    "\n",
    "results_path = Path(\"results\") / sub_folder # Directory where we will store all the results\n",
    "results_path.mkdir(exist_ok=True, parents=True)\n",
    "\n",
    "script_base_path = Path(\"scripts\") / sub_folder # Path to directory with the chapter CSVs\n",
    "script_file_names = [f\"chapter{i}.csv\" for i in range(1, 7)] # \"chapter1.csv\" - \"chapter6.csv\"\n",
    "\n",
    "df = pd.concat([pd.read_csv(script_base_path / path) for path in script_file_names]).dropna(how=\"all\").drop_duplicates(\"Filename\")\n",
    "df.describe()"
   ]
  },
  {
   "cell_type": "code",
   "execution_count": 3,
   "metadata": {},
   "outputs": [
    {
     "output_type": "execute_result",
     "data": {
      "text/plain": [
       "             Filename      Voice  \\\n",
       "0  Script_1_Opening_1     Slacks   \n",
       "1  Script_1_Opening_2    SUNSfan   \n",
       "2  Script_1_Opening_3     Slacks   \n",
       "3  Script_1_Opening_4    SUNSfan   \n",
       "4         General_Boo  Indiegogo   \n",
       "\n",
       "                                                Line  \\\n",
       "0  Oh look at this! New blood! The dragon knight ...   \n",
       "1  Fresh from the Netflix anime are you? Welcome ...   \n",
       "2                               Except for Artifact.   \n",
       "3          Yes, yes, of course, except for Artifact.   \n",
       "4                                              *Boo*   \n",
       "\n",
       "                         Notes  \n",
       "0                          NaN  \n",
       "1                          NaN  \n",
       "2  alt-and the most confusing!  \n",
       "3  alt-yes its quite confusing  \n",
       "4                          NaN  "
      ],
      "text/html": "<div>\n<style scoped>\n    .dataframe tbody tr th:only-of-type {\n        vertical-align: middle;\n    }\n\n    .dataframe tbody tr th {\n        vertical-align: top;\n    }\n\n    .dataframe thead th {\n        text-align: right;\n    }\n</style>\n<table border=\"1\" class=\"dataframe\">\n  <thead>\n    <tr style=\"text-align: right;\">\n      <th></th>\n      <th>Filename</th>\n      <th>Voice</th>\n      <th>Line</th>\n      <th>Notes</th>\n    </tr>\n  </thead>\n  <tbody>\n    <tr>\n      <th>0</th>\n      <td>Script_1_Opening_1</td>\n      <td>Slacks</td>\n      <td>Oh look at this! New blood! The dragon knight ...</td>\n      <td>NaN</td>\n    </tr>\n    <tr>\n      <th>1</th>\n      <td>Script_1_Opening_2</td>\n      <td>SUNSfan</td>\n      <td>Fresh from the Netflix anime are you? Welcome ...</td>\n      <td>NaN</td>\n    </tr>\n    <tr>\n      <th>2</th>\n      <td>Script_1_Opening_3</td>\n      <td>Slacks</td>\n      <td>Except for Artifact.</td>\n      <td>alt-and the most confusing!</td>\n    </tr>\n    <tr>\n      <th>3</th>\n      <td>Script_1_Opening_4</td>\n      <td>SUNSfan</td>\n      <td>Yes, yes, of course, except for Artifact.</td>\n      <td>alt-yes its quite confusing</td>\n    </tr>\n    <tr>\n      <th>4</th>\n      <td>General_Boo</td>\n      <td>Indiegogo</td>\n      <td>*Boo*</td>\n      <td>NaN</td>\n    </tr>\n  </tbody>\n</table>\n</div>"
     },
     "metadata": {},
     "execution_count": 3
    }
   ],
   "source": [
    "df.head()"
   ]
  },
  {
   "cell_type": "code",
   "execution_count": 4,
   "metadata": {
    "tags": []
   },
   "outputs": [],
   "source": [
    "# Write addon_english lines\n",
    "localizations_path = results_path / \"addon_english.txt\"\n",
    "\n",
    "with open(localizations_path, \"w\", encoding=\"utf-8\") as loc_file:\n",
    "    for row in df[[\"Filename\", \"Line\"]].to_numpy():\n",
    "        try:\n",
    "            cleaned_line = row[1].strip().replace(\"\\\"\", \"'\")\n",
    "            loc_file.write(f'        \"{row[0]}\" \"{cleaned_line}\"\\n')\n",
    "        except:\n",
    "            print(\"Error on line\", row)"
   ]
  },
  {
   "cell_type": "code",
   "execution_count": 5,
   "metadata": {},
   "outputs": [],
   "source": [
    "# Write localization key typescript object\n",
    "enum_path = results_path / \"localization.ts\"\n",
    "\n",
    "with open(enum_path, \"w\", encoding=\"utf-8\") as enum_file:\n",
    "    for row in df[[\"Filename\", \"Line\"]].to_numpy():\n",
    "        enum_file.write(f'    {row[0]} = \"{row[0]}\",\\n')"
   ]
  },
  {
   "cell_type": "code",
   "execution_count": 6,
   "metadata": {},
   "outputs": [],
   "source": [
    "# Write sound events file\n",
    "sound_events_path = results_path / \"tutorial_dialogs.vsndevts\"\n",
    "\n",
    "sound_template = \"\"\"    \"%s\" =\n",
    "    {\n",
    "        type = \"dota_src1_2d\"\n",
    "        volume = \"1.0\"\n",
    "        vsnd_files = [ \"sounds/tutorial_dialogs/%s.vsnd\" ]\n",
    "    }\n",
    "\"\"\".replace(\"\\r\\n\", \"\\n\")\n",
    "\n",
    "with open(sound_events_path, \"w\", encoding=\"utf-8\") as sound_file:\n",
    "    sound_file.write(\"<!-- kv3 encoding:text:version{e21c7f3c-8a33-41c5-9977-a76d3a32aa0d} format:generic:version{7412167c-06e9-4698-aff2-e63eb59037e7} -->\\n\")\n",
    "    sound_file.write(\"{\\n\")\n",
    "    for row in df[\"Filename\"].to_numpy():\n",
    "        sound_file.write(sound_template % (row, row))\n",
    "    sound_file.write(\"}\\n\")"
   ]
  },
  {
   "cell_type": "code",
   "execution_count": 7,
   "metadata": {},
   "outputs": [],
   "source": [
    "# Write mp3 lengths typescript object (requires mutagen)\n",
    "from mutagen.mp3 import MP3\n",
    "\n",
    "audio_base_path = Path(\"..\") / \"content\" / \"sounds\" / \"tutorial_dialogs\" # Path where the mp3s are\n",
    "sound_lengths_path = results_path / \"Sounds.ts\"\n",
    "\n",
    "with open(sound_lengths_path, \"w\", encoding=\"utf-8\") as sound_file:\n",
    "    sound_file.write(\"export const soundDurations: Record<string, number> = {\\n\")\n",
    "    for row in df[\"Filename\"].to_numpy():\n",
    "        path = audio_base_path / f\"{row}.mp3\"\n",
    "        if (path.exists()):\n",
    "            duration = MP3(path).info.length\n",
    "            sound_file.write('    \"%s\": %f,\\n' % (row, duration))\n",
    "    sound_file.write(\"}\\n\")"
   ]
  },
  {
   "cell_type": "code",
   "execution_count": null,
   "metadata": {},
   "outputs": [],
   "source": []
  }
 ],
 "metadata": {
  "kernelspec": {
   "display_name": "Python 3.7.6 64-bit ('tf2': conda)",
   "language": "python",
   "name": "python37664bittf2conda034469ea11204d31b38329519e9d7dbe"
  },
  "language_info": {
   "codemirror_mode": {
    "name": "ipython",
    "version": 3
   },
   "file_extension": ".py",
   "mimetype": "text/x-python",
   "name": "python",
   "nbconvert_exporter": "python",
   "pygments_lexer": "ipython3",
   "version": "3.7.6"
  }
 },
 "nbformat": 4,
 "nbformat_minor": 4
}