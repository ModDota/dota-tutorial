{
 "metadata": {
  "language_info": {
   "codemirror_mode": {
    "name": "ipython",
    "version": 3
   },
   "file_extension": ".py",
   "mimetype": "text/x-python",
   "name": "python",
   "nbconvert_exporter": "python",
   "pygments_lexer": "ipython3",
   "version": "3.7.6"
  },
  "orig_nbformat": 2,
  "kernelspec": {
   "name": "python3",
   "display_name": "Python 3.7.6 64-bit ('tf2': conda)",
   "metadata": {
    "interpreter": {
     "hash": "eb5b83e52019506a0fa0206134d53eec868b91ce838d9a098e4ecc93e8979b98"
    }
   }
  }
 },
 "nbformat": 4,
 "nbformat_minor": 2,
 "cells": [
  {
   "cell_type": "code",
   "execution_count": 1,
   "metadata": {},
   "outputs": [],
   "source": [
    "import pandas as pd\n",
    "from pathlib import Path"
   ]
  },
  {
   "cell_type": "code",
   "execution_count": 7,
   "metadata": {},
   "outputs": [],
   "source": [
    "sub_folder = \"1\"\n",
    "\n",
    "results_path = Path(\"results_tiers\") / sub_folder # Directory where we will store all the results\n",
    "results_path.mkdir(exist_ok=True, parents=True)\n",
    "\n",
    "tier_base_path = Path(\"tiers\") / sub_folder # Path to directory with the chapter CSVs\n",
    "tier_file_names = [\"tier_30.csv\", \"tier_50.csv\", \"tier_100.csv\", \"tier_250.csv\"]"
   ]
  },
  {
   "cell_type": "code",
   "execution_count": 8,
   "metadata": {},
   "outputs": [
    {
     "output_type": "execute_result",
     "data": {
      "text/plain": [
       "count                78\n",
       "unique               77\n",
       "top       love yourself\n",
       "freq                  2\n",
       "Name: Message, dtype: object"
      ]
     },
     "metadata": {},
     "execution_count": 8
    }
   ],
   "source": [
    "def get_messages(path):\n",
    "    return pd.read_csv(tier_base_path / path)[\"Message\"].dropna()\n",
    "\n",
    "df_msgs = pd.concat([get_messages(path) for path in tier_file_names])\n",
    "df_msgs.describe()"
   ]
  },
  {
   "cell_type": "code",
   "execution_count": 9,
   "metadata": {},
   "outputs": [
    {
     "output_type": "execute_result",
     "data": {
      "text/plain": [
       "0    Always remember, no matter how bad your games ...\n",
       "1    Sending out an item on the courier? Consider s...\n",
       "2    Dota pro tip: Play with friends. If you don't ...\n",
       "3    When you finally wrap your head around Dota, I...\n",
       "4    If you find something harmless in this game ge...\n",
       "Name: Message, dtype: object"
      ]
     },
     "metadata": {},
     "execution_count": 9
    }
   ],
   "source": [
    "df_msgs.head()"
   ]
  },
  {
   "cell_type": "code",
   "execution_count": 16,
   "metadata": {},
   "outputs": [],
   "source": [
    "messages_path = results_path / \"messages.txt\"\n",
    "\n",
    "with open(messages_path, \"w\", encoding=\"utf-8\") as msg_file:\n",
    "    for i, msg in enumerate(df_msgs):\n",
    "        cleaned_msg = \" \".join(msg.strip().replace(\"\\\"\", \"'\").split())\n",
    "        msg_file.write(f'\"MessageToTheNoobs_{i}\" \"{cleaned_msg}\"\\n')"
   ]
  },
  {
   "cell_type": "code",
   "execution_count": null,
   "metadata": {},
   "outputs": [],
   "source": []
  }
 ]
}