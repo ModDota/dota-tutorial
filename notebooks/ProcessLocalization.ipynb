{
 "metadata": {
  "language_info": {
   "codemirror_mode": {
    "name": "ipython",
    "version": 3
   },
   "file_extension": ".py",
   "mimetype": "text/x-python",
   "name": "python",
   "nbconvert_exporter": "python",
   "pygments_lexer": "ipython3",
   "version": "3.7.6"
  },
  "orig_nbformat": 2,
  "kernelspec": {
   "name": "python3",
   "display_name": "Python 3.7.6 64-bit ('tf2': conda)",
   "metadata": {
    "interpreter": {
     "hash": "eb5b83e52019506a0fa0206134d53eec868b91ce838d9a098e4ecc93e8979b98"
    }
   }
  }
 },
 "nbformat": 4,
 "nbformat_minor": 2,
 "cells": [
  {
   "cell_type": "code",
   "execution_count": 10,
   "metadata": {},
   "outputs": [],
   "source": [
    "import pandas as pd\n",
    "from pathlib import Path"
   ]
  },
  {
   "cell_type": "code",
   "execution_count": 11,
   "metadata": {},
   "outputs": [],
   "source": [
    "sub_folder = \"4\"\n",
    "\n",
    "results_path = Path(\"results_translations\") / sub_folder # Directory where we will store all the results\n",
    "results_path.mkdir(exist_ok=True, parents=True)\n",
    "\n",
    "translations_base_path = Path(\"translations\") / sub_folder # Path to directory with the translations\n",
    "translation_codes = {\n",
    "    \"de\": \"german\",\n",
    "    \"el\": \"greek\",\n",
    "    \"es-ES\": \"spanish\",\n",
    "    \"fi\": \"finnish\",\n",
    "    \"pt-BR\": \"brazilian\",\n",
    "    \"ru\": \"russian\",\n",
    "    \"tr\": \"turkish\",\n",
    "    \"zh-CN\": \"schinese\",\n",
    "    \"fr\": \"french\",\n",
    "}"
   ]
  },
  {
   "cell_type": "code",
   "execution_count": 12,
   "metadata": {},
   "outputs": [
    {
     "output_type": "stream",
     "name": "stdout",
     "text": [
      "Quote in row de Error_Tower_1\nQuote in row de Goal_1_Leveling_1\nQuote in row de Goal_1_Leveling_2\nQuote in row de Goal_1_Leveling_3\nQuote in row de Goal_1_BreatheFire_1\nQuote in row de Script_1_Opening_5\nQuote in row de Script_1_Movement_11\nQuote in row de Script_1_Leveling_1\nQuote in row de Script_1_Leveling_5\nQuote in row de Script_1_Leveling_9\nQuote in row de Script_1_Leveling_10\nQuote in row de Script_2_Creeps_11\nQuote in row de Script_2_Courier_9\nQuote in row de Script_3_Neutrals_6\nQuote in row de Script_4_Communication_5\nQuote in row de Script_4_Communication_6\nQuote in row de Script_6_DFZ\nQuote in row de Script_6_Yodi\nQuote in row de Script_6_Flam3s\nQuote in row de Script_6_valkyrjaRuby\nQuote in row de MessageToTheNoobs_31\nQuote in row de MessageToTheNoobs_77\nQuote in row el Goal_4_Communication_1\nQuote in row el Goal_4_Communication_2\nQuote in row el Script_1_Movement_11\nQuote in row el MessageToTheNoobs_19\nQuote in row pt-BR Script_2_Courier_9\nQuote in row pt-BR Script_3_Opening_17\nQuote in row pt-BR Script_3_Neutrals_8\nQuote in row pt-BR Script_4_Communication_6\nQuote in row pt-BR Script_4_Communication_13\nQuote in row pt-BR Script_6_Yodi\nQuote in row pt-BR Script_6_SUNSfan\nQuote in row ru Script_6_SUNSfan\nQuote in row tr Script_4_Communication_6\nQuote in row zh-CN Script_1_Movement_1\nQuote in row zh-CN Script_1_Leveling_10\nQuote in row fr Error_Courier_1\nQuote in row fr Error_Tower_1\nQuote in row fr Error_Chapter3_2\nQuote in row fr Error_Teamfight_1\nQuote in row fr Goal_1_Leveling_1\nQuote in row fr Goal_1_Leveling_2\nQuote in row fr Goal_1_Leveling_3\nQuote in row fr Goal_1_BreatheFire_1\nQuote in row fr Goal_2_Creeps_2\nQuote in row fr Goal_2_Tower_4\nQuote in row fr Goal_2_Courier_3\nQuote in row fr Goal_2_Courier_4\nQuote in row fr Goal_3_4\nQuote in row fr Goal_3_11\nQuote in row fr Goal_3_15\nQuote in row fr Goal_4_Opening_3\nQuote in row fr Goal_4_Wards_2\nQuote in row fr Goal_4_Wards_3\nQuote in row fr Goal_4_Wards_5\nQuote in row fr Goal_4_Outpost_1\nQuote in row fr Goal_4_Communication_1\nQuote in row fr Goal_5_5v5_3\nQuote in row fr Goal_5_5v5_4\nQuote in row fr Script_1_Movement_11\nQuote in row fr Script_1_Leveling_1\nQuote in row fr Script_1_Leveling_2\nQuote in row fr Script_1_Leveling_5\nQuote in row fr Script_1_Leveling_9\nQuote in row fr Script_1_Leveling_10\nQuote in row fr Script_1_BreatheFire_2\nQuote in row fr Script_1_Shop_7\nQuote in row fr Script_2_Creeps_2\nQuote in row fr Script_2_Creeps_11\nQuote in row fr Script_2_Creeps_20\nQuote in row fr Script_2_Courier_4\nQuote in row fr Script_2_Courier_5\nQuote in row fr Script_2_Courier_9\nQuote in row fr Script_3_Opening_3\nQuote in row fr Script_3_Opening_12\nQuote in row fr Script_3_Opening_17\nQuote in row fr Script_3_Neutrals_8\nQuote in row fr Script_4_Wards_12\nQuote in row fr Script_4_Wards_15\nQuote in row fr Script_4_Outpost_1\nQuote in row fr Script_4_Communication_3\nQuote in row fr Script_4_Communication_5\nQuote in row fr Script_4_Communication_6\nQuote in row fr Script_4_Communication_13\nQuote in row fr Script_5_5v5_6\nQuote in row fr Script_5_5v5_7\nQuote in row fr Script_5_5v5_11\nQuote in row fr Script_6_Closing_6\nQuote in row fr Script_6_Purge\nQuote in row fr Script_6_Yodi\nQuote in row fr Script_6_SUNSfan\nQuote in row fr Script_6_Alex\nQuote in row fr Script_6_Flam3s\nQuote in row fr Script_6_SinZ\nQuote in row fr Script_6_SmashTheState\nQuote in row fr MessageToTheNoobs_0\nQuote in row fr MessageToTheNoobs_15\nQuote in row fr MessageToTheNoobs_33\nQuote in row fr MessageToTheNoobs_62\nQuote in row fr MessageToTheNoobs_63\nQuote in row fr MessageToTheNoobs_77\n"
     ]
    }
   ],
   "source": [
    "for code, lang_name in translation_codes.items():\n",
    "    df = pd.read_csv(translations_base_path / code / \"addon_english.csv\", encoding=\"utf-8\")\n",
    "\n",
    "    with open(results_path / f\"addon_{lang_name}.txt\", \"w\", encoding=\"utf-8\") as out_file:\n",
    "        out_file.write('\"lang\"\\n')\n",
    "        out_file.write('{\\n')\n",
    "        out_file.write(f'\"Language\" \"{lang_name}\"\\n')\n",
    "        out_file.write('\"Tokens\"\\n')\n",
    "        out_file.write('{\\n')\n",
    "        for row in df[[\"String ID\", \"Source text\", \"Translation\"]].to_numpy():\n",
    "            original = row[1].replace('\"', \"'\")\n",
    "            translation = row[2].replace('\"', \"'\")\n",
    "            out_file.write(f'\"{row[0]}\" \"{translation}\"\\n')\n",
    "            out_file.write(f'\"[english]{row[0]}\" \"{original}\"\\n')\n",
    "            if '\"' in row[1] or '\"' in row[2]:\n",
    "                print(\"Quote in row\", code, row[0])\n",
    "        out_file.write('}\\n')\n",
    "        out_file.write('}\\n')"
   ]
  },
  {
   "cell_type": "code",
   "execution_count": null,
   "metadata": {},
   "outputs": [],
   "source": []
  }
 ]
}