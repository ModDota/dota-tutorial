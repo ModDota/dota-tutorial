{
 "cells": [
  {
   "cell_type": "code",
   "execution_count": 1,
   "metadata": {},
   "outputs": [],
   "source": [
    "import pandas as pd\n",
    "from pathlib import Path"
   ]
  },
  {
   "cell_type": "code",
   "execution_count": 12,
   "metadata": {},
   "outputs": [],
   "source": [
    "sub_folder = \"9\"\n",
    "\n",
    "results_path = Path(\"results_community\") / sub_folder # Directory where we will store all the results\n",
    "results_path.mkdir(exist_ok=True, parents=True)"
   ]
  },
  {
   "cell_type": "code",
   "execution_count": 13,
   "metadata": {},
   "outputs": [
    {
     "output_type": "stream",
     "name": "stdout",
     "text": [
      "Found 160 files\n"
     ]
    }
   ],
   "source": [
    "# Write mp3 lengths typescript object (requires mutagen)\n",
    "from mutagen.mp3 import MP3\n",
    "\n",
    "audio_base_path = Path(\"..\") / \"content\" / \"sounds\" / \"community\" # Path where the mp3s are\n",
    "sound_lengths_path = results_path / \"Sounds.ts\"\n",
    "\n",
    "audio_paths = list(audio_base_path.glob(\"*.mp3\"))\n",
    "audio_names = [path.stem for path in audio_paths]\n",
    "print(\"Found\", len(audio_paths), \"files\")\n",
    "\n",
    "with open(sound_lengths_path, \"w\", encoding=\"utf-8\") as sound_file:\n",
    "    for path in audio_paths:\n",
    "        duration = MP3(path).info.length\n",
    "        sound_file.write('    \"%s\": %f,\\n' % (path.stem, duration))"
   ]
  },
  {
   "cell_type": "code",
   "execution_count": 14,
   "metadata": {},
   "outputs": [],
   "source": [
    "# Write localization key typescript object\n",
    "ts_file_path = results_path / \"localization.ts\"\n",
    "\n",
    "audio_grouped_names = {}\n",
    "for name in audio_names:\n",
    "    base_name, nr = name.rsplit(\"_\", 1)\n",
    "    if base_name not in audio_grouped_names:\n",
    "        audio_grouped_names[base_name] = []\n",
    "    audio_grouped_names[base_name].append(name)\n",
    "    if name.endswith(\"_\") or any(c2.islower() and c1 == \"_\" for c1, c2 in zip(name[:-1], name[1:])) or name[0].islower():\n",
    "        print(\"Wrong name\", name)\n",
    "\n",
    "with open(ts_file_path, \"w\", encoding=\"utf-8\") as ts_file:\n",
    "    ts_file.write(\"const communitySounds: Record<LocalizationKey, string[]> = {\\n\")\n",
    "    for base_name, names in audio_grouped_names.items():\n",
    "        ts_file.write(f'[LocalizationKey.{base_name}]: [\\n')\n",
    "        ts_file.write(\"\\n\".join(f'\"{name}\",' for name in names))\n",
    "        ts_file.write(\"\\n],\\n\")\n",
    "    ts_file.write(\"}\\n\")"
   ]
  },
  {
   "cell_type": "code",
   "execution_count": 15,
   "metadata": {},
   "outputs": [],
   "source": [
    "# Write sound events file\n",
    "sound_events_path = results_path / \"community.vsndevts\"\n",
    "\n",
    "sound_template = \"\"\"    \"%s\" =\n",
    "    {\n",
    "        type = \"dota_src1_2d\"\n",
    "        volume = \"1.0\"\n",
    "        vsnd_files = [ \"sounds/community/%s.vsnd\" ]\n",
    "    }\n",
    "\"\"\".replace(\"\\r\\n\", \"\\n\")\n",
    "\n",
    "with open(sound_events_path, \"w\", encoding=\"utf-8\") as sound_file:\n",
    "    sound_file.write(\"<!-- kv3 encoding:text:version{e21c7f3c-8a33-41c5-9977-a76d3a32aa0d} format:generic:version{7412167c-06e9-4698-aff2-e63eb59037e7} -->\\n\")\n",
    "    sound_file.write(\"{\\n\")\n",
    "    for row in audio_names:\n",
    "        sound_file.write(sound_template % (row, row))\n",
    "    sound_file.write(\"}\\n\")"
   ]
  },
  {
   "cell_type": "code",
   "execution_count": 7,
   "metadata": {},
   "outputs": [
    {
     "output_type": "stream",
     "name": "stdout",
     "text": [
      "Found 23 files\n",
      "f:\\TypeScript\\dota-tutorial\\notebooks\\new_comm\\General_Boo_134.mp3 => f:\\TypeScript\\dota-tutorial\\notebooks\\results_community\\9\\processed\\General_Boo_134.mp3\n",
      "f:\\TypeScript\\dota-tutorial\\notebooks\\new_comm\\General_Boo_20.mp3 => f:\\TypeScript\\dota-tutorial\\notebooks\\results_community\\9\\processed\\General_Boo_20.mp3\n",
      "f:\\TypeScript\\dota-tutorial\\notebooks\\new_comm\\General_Boo_526.mp3 => f:\\TypeScript\\dota-tutorial\\notebooks\\results_community\\9\\processed\\General_Boo_526.mp3\n",
      "f:\\TypeScript\\dota-tutorial\\notebooks\\new_comm\\General_Boo_76.mp3 => f:\\TypeScript\\dota-tutorial\\notebooks\\results_community\\9\\processed\\General_Boo_76.mp3\n",
      "f:\\TypeScript\\dota-tutorial\\notebooks\\new_comm\\General_Cheer_134.mp3 => f:\\TypeScript\\dota-tutorial\\notebooks\\results_community\\9\\processed\\General_Cheer_134.mp3\n",
      "f:\\TypeScript\\dota-tutorial\\notebooks\\new_comm\\General_Cheer_20.mp3 => f:\\TypeScript\\dota-tutorial\\notebooks\\results_community\\9\\processed\\General_Cheer_20.mp3\n",
      "f:\\TypeScript\\dota-tutorial\\notebooks\\new_comm\\General_Cheer_526.mp3 => f:\\TypeScript\\dota-tutorial\\notebooks\\results_community\\9\\processed\\General_Cheer_526.mp3\n",
      "f:\\TypeScript\\dota-tutorial\\notebooks\\new_comm\\General_Cheer_76.mp3 => f:\\TypeScript\\dota-tutorial\\notebooks\\results_community\\9\\processed\\General_Cheer_76.mp3\n",
      "f:\\TypeScript\\dota-tutorial\\notebooks\\new_comm\\General_Hurt_134.mp3 => f:\\TypeScript\\dota-tutorial\\notebooks\\results_community\\9\\processed\\General_Hurt_134.mp3\n",
      "f:\\TypeScript\\dota-tutorial\\notebooks\\new_comm\\General_Hurt_20.mp3 => f:\\TypeScript\\dota-tutorial\\notebooks\\results_community\\9\\processed\\General_Hurt_20.mp3\n",
      "f:\\TypeScript\\dota-tutorial\\notebooks\\new_comm\\General_Hurt_526.mp3 => f:\\TypeScript\\dota-tutorial\\notebooks\\results_community\\9\\processed\\General_Hurt_526.mp3\n",
      "f:\\TypeScript\\dota-tutorial\\notebooks\\new_comm\\General_Scared_134.mp3 => f:\\TypeScript\\dota-tutorial\\notebooks\\results_community\\9\\processed\\General_Scared_134.mp3\n",
      "f:\\TypeScript\\dota-tutorial\\notebooks\\new_comm\\General_Scared_20.mp3 => f:\\TypeScript\\dota-tutorial\\notebooks\\results_community\\9\\processed\\General_Scared_20.mp3\n",
      "f:\\TypeScript\\dota-tutorial\\notebooks\\new_comm\\General_Scared_526.mp3 => f:\\TypeScript\\dota-tutorial\\notebooks\\results_community\\9\\processed\\General_Scared_526.mp3\n",
      "f:\\TypeScript\\dota-tutorial\\notebooks\\new_comm\\Ogre_Die_134.mp3 => f:\\TypeScript\\dota-tutorial\\notebooks\\results_community\\9\\processed\\Ogre_Die_134.mp3\n",
      "f:\\TypeScript\\dota-tutorial\\notebooks\\new_comm\\Ogre_Die_20.mp3 => f:\\TypeScript\\dota-tutorial\\notebooks\\results_community\\9\\processed\\Ogre_Die_20.mp3\n",
      "f:\\TypeScript\\dota-tutorial\\notebooks\\new_comm\\Ogre_Die_526.mp3 => f:\\TypeScript\\dota-tutorial\\notebooks\\results_community\\9\\processed\\Ogre_Die_526.mp3\n",
      "f:\\TypeScript\\dota-tutorial\\notebooks\\new_comm\\Ogre_Die_76.mp3 => f:\\TypeScript\\dota-tutorial\\notebooks\\results_community\\9\\processed\\Ogre_Die_76.mp3\n",
      "f:\\TypeScript\\dota-tutorial\\notebooks\\new_comm\\Ogre_Hurt_76.mp3 => f:\\TypeScript\\dota-tutorial\\notebooks\\results_community\\9\\processed\\Ogre_Hurt_76.mp3\n",
      "f:\\TypeScript\\dota-tutorial\\notebooks\\new_comm\\Ogre_Spawn_134.mp3 => f:\\TypeScript\\dota-tutorial\\notebooks\\results_community\\9\\processed\\Ogre_Spawn_134.mp3\n",
      "f:\\TypeScript\\dota-tutorial\\notebooks\\new_comm\\Ogre_Spawn_20.mp3 => f:\\TypeScript\\dota-tutorial\\notebooks\\results_community\\9\\processed\\Ogre_Spawn_20.mp3\n",
      "f:\\TypeScript\\dota-tutorial\\notebooks\\new_comm\\Ogre_Spawn_526.mp3 => f:\\TypeScript\\dota-tutorial\\notebooks\\results_community\\9\\processed\\Ogre_Spawn_526.mp3\n",
      "f:\\TypeScript\\dota-tutorial\\notebooks\\new_comm\\Ogre_Spawn_76.mp3 => f:\\TypeScript\\dota-tutorial\\notebooks\\results_community\\9\\processed\\Ogre_Spawn_76.mp3\n"
     ]
    }
   ],
   "source": [
    "\"\"\"\n",
    "# Convert to 128\n",
    "from mutagen.mp3 import MP3\n",
    "import os\n",
    "\n",
    "audio_base_path = Path(\"..\") / \"content\" / \"sounds\" / \"community\" # Path where the mp3s are\n",
    "\n",
    "processed_dir = results_path / \"processed\"\n",
    "processed_dir.mkdir(exist_ok=True, parents=True)\n",
    "\n",
    "audio_paths = list(audio_base_path.glob(\"*.mp3\"))\n",
    "print(\"Found\", len(audio_paths), \"files\")\n",
    "\n",
    "for path in audio_paths:\n",
    "    print(str(path.absolute()), \"=>\", str(processed_dir.absolute() / path.name))\n",
    "    os.system(\" \".join([\"ffmpeg\", \"-i\", f'\"{str(path.absolute())}\"', \"-vn\", \"-ar 44100\", \"-ac 2\", \"-b:a 128k\", f'\"{str(processed_dir.absolute() / path.name)}\"']))\n",
    "\"\"\""
   ]
  },
  {
   "cell_type": "code",
   "execution_count": null,
   "metadata": {},
   "outputs": [],
   "source": []
  }
 ],
 "metadata": {
  "kernelspec": {
   "name": "python376jvsc74a57bd0eb5b83e52019506a0fa0206134d53eec868b91ce838d9a098e4ecc93e8979b98",
   "display_name": "Python 3.7.6 64-bit ('tf2': conda)"
  },
  "language_info": {
   "codemirror_mode": {
    "name": "ipython",
    "version": 3
   },
   "file_extension": ".py",
   "mimetype": "text/x-python",
   "name": "python",
   "nbconvert_exporter": "python",
   "pygments_lexer": "ipython3",
   "version": "3.7.6"
  }
 },
 "nbformat": 4,
 "nbformat_minor": 4
}